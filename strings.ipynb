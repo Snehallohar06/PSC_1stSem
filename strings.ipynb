{
 "cells": [
  {
   "cell_type": "code",
   "execution_count": 3,
   "id": "54ed721d-275c-43e6-bb65-640e5847e46d",
   "metadata": {},
   "outputs": [],
   "source": [
    "name = \"Prasanna babar\""
   ]
  },
  {
   "cell_type": "code",
   "execution_count": 4,
   "id": "e7b23822-1663-4760-958e-0144aa172007",
   "metadata": {},
   "outputs": [
    {
     "data": {
      "text/plain": [
       "'Prasanna babar'"
      ]
     },
     "execution_count": 4,
     "metadata": {},
     "output_type": "execute_result"
    }
   ],
   "source": [
    "name"
   ]
  },
  {
   "cell_type": "code",
   "execution_count": 5,
   "id": "e598ed8e-d6f8-434e-9540-f9c6ca0e7c5f",
   "metadata": {},
   "outputs": [
    {
     "data": {
      "text/plain": [
       "'n'"
      ]
     },
     "execution_count": 5,
     "metadata": {},
     "output_type": "execute_result"
    }
   ],
   "source": [
    "name[6]"
   ]
  },
  {
   "cell_type": "code",
   "execution_count": 6,
   "id": "b2891cf4-f8bd-415f-a654-f8c353611493",
   "metadata": {},
   "outputs": [
    {
     "data": {
      "text/plain": [
       "'a'"
      ]
     },
     "execution_count": 6,
     "metadata": {},
     "output_type": "execute_result"
    }
   ],
   "source": [
    "name[2]"
   ]
  },
  {
   "cell_type": "code",
   "execution_count": 8,
   "id": "5111e2ef-a434-4941-af67-311e05267a87",
   "metadata": {},
   "outputs": [
    {
     "data": {
      "text/plain": [
       "'r'"
      ]
     },
     "execution_count": 8,
     "metadata": {},
     "output_type": "execute_result"
    }
   ],
   "source": [
    "name[-1]"
   ]
  },
  {
   "cell_type": "code",
   "execution_count": null,
   "id": "a6270c25-2cef-43ce-a4ee-1122ea5506c8",
   "metadata": {},
   "outputs": [],
   "source": [
    "#slicing operation"
   ]
  },
  {
   "cell_type": "code",
   "execution_count": 10,
   "id": "758d7edc-c11a-4040-957e-1ee20a029fc9",
   "metadata": {},
   "outputs": [
    {
     "data": {
      "text/plain": [
       "''"
      ]
     },
     "execution_count": 10,
     "metadata": {},
     "output_type": "execute_result"
    }
   ],
   "source": [
    "name[6:-1:-2]"
   ]
  },
  {
   "cell_type": "code",
   "execution_count": 11,
   "id": "387ba248-2f99-4970-b530-efb9f6831f5d",
   "metadata": {},
   "outputs": [
    {
     "data": {
      "text/plain": [
       "''"
      ]
     },
     "execution_count": 11,
     "metadata": {},
     "output_type": "execute_result"
    }
   ],
   "source": [
    "name[-6:-1:-2]"
   ]
  },
  {
   "cell_type": "code",
   "execution_count": 12,
   "id": "e0e6dcfa-b880-4bb4-aa93-d748166e1ef6",
   "metadata": {},
   "outputs": [
    {
     "data": {
      "text/plain": [
       "' naa'"
      ]
     },
     "execution_count": 12,
     "metadata": {},
     "output_type": "execute_result"
    }
   ],
   "source": [
    "name[-6:1:-2]"
   ]
  },
  {
   "cell_type": "code",
   "execution_count": 13,
   "id": "1fe8347b-5adb-4d84-8aeb-aa3b1c881c27",
   "metadata": {},
   "outputs": [
    {
     "data": {
      "text/plain": [
       "' na'"
      ]
     },
     "execution_count": 13,
     "metadata": {},
     "output_type": "execute_result"
    }
   ],
   "source": [
    "name[-6:2:-2]"
   ]
  },
  {
   "cell_type": "code",
   "execution_count": 14,
   "id": "4c6956a5-921f-4f09-aed3-72ccbe550b65",
   "metadata": {},
   "outputs": [
    {
     "data": {
      "text/plain": [
       "' annas'"
      ]
     },
     "execution_count": 14,
     "metadata": {},
     "output_type": "execute_result"
    }
   ],
   "source": [
    "name[-6:2:-1]"
   ]
  },
  {
   "cell_type": "code",
   "execution_count": 15,
   "id": "10ae4896-1006-4b0d-96b5-6c7d63492615",
   "metadata": {},
   "outputs": [
    {
     "data": {
      "text/plain": [
       "'anna ba'"
      ]
     },
     "execution_count": 15,
     "metadata": {},
     "output_type": "execute_result"
    }
   ],
   "source": [
    "name[-10:-3:1]"
   ]
  },
  {
   "cell_type": "code",
   "execution_count": 17,
   "id": "87555b29-4c8b-4805-9f4b-e88437f5c174",
   "metadata": {},
   "outputs": [
    {
     "data": {
      "text/plain": [
       "'b'"
      ]
     },
     "execution_count": 17,
     "metadata": {},
     "output_type": "execute_result"
    }
   ],
   "source": [
    "name[-3:-1:2]"
   ]
  },
  {
   "cell_type": "code",
   "execution_count": 18,
   "id": "efd9d8b6-da94-4a01-899c-cf874fa4ee01",
   "metadata": {},
   "outputs": [
    {
     "data": {
      "text/plain": [
       "''"
      ]
     },
     "execution_count": 18,
     "metadata": {},
     "output_type": "execute_result"
    }
   ],
   "source": [
    "name[-5:3:1]"
   ]
  },
  {
   "cell_type": "code",
   "execution_count": 20,
   "id": "bca0b4e0-a299-4dc8-995c-6a33d3525a16",
   "metadata": {},
   "outputs": [
    {
     "data": {
      "text/plain": [
       "''"
      ]
     },
     "execution_count": 20,
     "metadata": {},
     "output_type": "execute_result"
    }
   ],
   "source": [
    "name[-9:10:-1]"
   ]
  },
  {
   "cell_type": "code",
   "execution_count": 21,
   "id": "14c548df-da70-4023-8931-ed181e6b39d2",
   "metadata": {},
   "outputs": [
    {
     "data": {
      "text/plain": [
       "'na ba'"
      ]
     },
     "execution_count": 21,
     "metadata": {},
     "output_type": "execute_result"
    }
   ],
   "source": [
    "name[-8:11]"
   ]
  },
  {
   "cell_type": "code",
   "execution_count": 22,
   "id": "52e02f2c-57b0-490f-aac9-8b181b54c01f",
   "metadata": {},
   "outputs": [
    {
     "data": {
      "text/plain": [
       "'r'"
      ]
     },
     "execution_count": 22,
     "metadata": {},
     "output_type": "execute_result"
    }
   ],
   "source": [
    "name[13]"
   ]
  },
  {
   "cell_type": "code",
   "execution_count": 23,
   "id": "e564c149-4b5a-4f6f-aee2-73a0f0e4cf87",
   "metadata": {},
   "outputs": [
    {
     "data": {
      "text/plain": [
       "'na bab'"
      ]
     },
     "execution_count": 23,
     "metadata": {},
     "output_type": "execute_result"
    }
   ],
   "source": [
    "name[6:-2]"
   ]
  },
  {
   "cell_type": "code",
   "execution_count": 27,
   "id": "0ee1b35d-7ccc-4210-ae10-d663d713b39d",
   "metadata": {},
   "outputs": [
    {
     "data": {
      "text/plain": [
       "'raaar'"
      ]
     },
     "execution_count": 27,
     "metadata": {},
     "output_type": "execute_result"
    }
   ],
   "source": [
    "name[13:-14:-3]"
   ]
  },
  {
   "cell_type": "code",
   "execution_count": 25,
   "id": "a3f66d4c-ce0c-4c38-97b8-450cb1ed1376",
   "metadata": {},
   "outputs": [
    {
     "data": {
      "text/plain": [
       "'na'"
      ]
     },
     "execution_count": 25,
     "metadata": {},
     "output_type": "execute_result"
    }
   ],
   "source": [
    "name[-8:8]"
   ]
  },
  {
   "cell_type": "code",
   "execution_count": 26,
   "id": "622bb065-89e1-42c9-a246-dd5c8460efcd",
   "metadata": {},
   "outputs": [
    {
     "data": {
      "text/plain": [
       "''"
      ]
     },
     "execution_count": 26,
     "metadata": {},
     "output_type": "execute_result"
    }
   ],
   "source": [
    "name[-9:0:1]"
   ]
  },
  {
   "cell_type": "code",
   "execution_count": 28,
   "id": "7f31c0d9-cadd-474c-a384-fd7060c47e9f",
   "metadata": {},
   "outputs": [],
   "source": [
    "name = \"Snehal lohar\""
   ]
  },
  {
   "cell_type": "code",
   "execution_count": 33,
   "id": "40398a18-982d-43ba-b3ca-2f5174eef618",
   "metadata": {},
   "outputs": [
    {
     "data": {
      "text/plain": [
       "'Snehal lohar'"
      ]
     },
     "execution_count": 33,
     "metadata": {},
     "output_type": "execute_result"
    }
   ],
   "source": [
    "name"
   ]
  },
  {
   "cell_type": "code",
   "execution_count": 30,
   "id": "5d146380-acfe-4446-b55a-b51516faf82b",
   "metadata": {},
   "outputs": [
    {
     "data": {
      "text/plain": [
       "'rahol lahenS'"
      ]
     },
     "execution_count": 30,
     "metadata": {},
     "output_type": "execute_result"
    }
   ],
   "source": [
    "name[-1: :-1]"
   ]
  },
  {
   "cell_type": "code",
   "execution_count": 31,
   "id": "0596c31b-565b-4559-8e2c-9b41c3372b14",
   "metadata": {},
   "outputs": [
    {
     "data": {
      "text/plain": [
       "'rahol lahenS'"
      ]
     },
     "execution_count": 31,
     "metadata": {},
     "output_type": "execute_result"
    }
   ],
   "source": [
    "name[::-1]"
   ]
  },
  {
   "cell_type": "code",
   "execution_count": 34,
   "id": "d432a792-ddcc-4c8f-8d6d-40f4619e7e3b",
   "metadata": {},
   "outputs": [
    {
     "data": {
      "text/plain": [
       "'r'"
      ]
     },
     "execution_count": 34,
     "metadata": {},
     "output_type": "execute_result"
    }
   ],
   "source": [
    "name[-1]"
   ]
  },
  {
   "cell_type": "code",
   "execution_count": 57,
   "id": "b1a749b5-e3d1-4cb6-8aa8-1557c9295485",
   "metadata": {},
   "outputs": [],
   "source": [
    "name= \"Snehal lohar\""
   ]
  },
  {
   "cell_type": "code",
   "execution_count": 58,
   "id": "2d77cb58-b28c-492d-bf1f-6a8cd71c950a",
   "metadata": {},
   "outputs": [
    {
     "data": {
      "text/plain": [
       "'Snehal lohar'"
      ]
     },
     "execution_count": 58,
     "metadata": {},
     "output_type": "execute_result"
    }
   ],
   "source": [
    "name"
   ]
  },
  {
   "cell_type": "code",
   "execution_count": 59,
   "id": "4cdba452-22dc-4264-b64f-ba55d285645f",
   "metadata": {},
   "outputs": [
    {
     "data": {
      "text/plain": [
       "12"
      ]
     },
     "execution_count": 59,
     "metadata": {},
     "output_type": "execute_result"
    }
   ],
   "source": [
    "#find the length of name\n",
    "len(name)"
   ]
  },
  {
   "cell_type": "markdown",
   "id": "c1ee5622-f5d4-4a96-88d0-959b45d9bae9",
   "metadata": {},
   "source": [
    "name*4"
   ]
  },
  {
   "cell_type": "code",
   "execution_count": 60,
   "id": "b574b2e9-7f9f-4509-bc56-99f73a47c0f8",
   "metadata": {},
   "outputs": [
    {
     "data": {
      "text/plain": [
       "'Snehal loharSnehal loharSnehal loharSnehal lohar'"
      ]
     },
     "execution_count": 60,
     "metadata": {},
     "output_type": "execute_result"
    }
   ],
   "source": [
    "name*4"
   ]
  },
  {
   "cell_type": "code",
   "execution_count": 61,
   "id": "265d644e-20d5-4b0e-86ce-b9c07e5dfb5f",
   "metadata": {},
   "outputs": [
    {
     "data": {
      "text/plain": [
       "'Snehal loharSnehal loharSnehal loharSnehal loharSnehal loharSnehal loharSnehal loharSnehal loharSnehal loharSnehal lohar'"
      ]
     },
     "execution_count": 61,
     "metadata": {},
     "output_type": "execute_result"
    }
   ],
   "source": [
    "name *10"
   ]
  },
  {
   "cell_type": "code",
   "execution_count": 63,
   "id": "cae19108-cdef-4295-b16d-db384a11aad7",
   "metadata": {},
   "outputs": [
    {
     "data": {
      "text/plain": [
       "1"
      ]
     },
     "execution_count": 63,
     "metadata": {},
     "output_type": "execute_result"
    }
   ],
   "source": [
    "name.count('al')"
   ]
  },
  {
   "cell_type": "code",
   "execution_count": 64,
   "id": "a4245a32-0032-4f57-86b3-00834db98fdf",
   "metadata": {},
   "outputs": [
    {
     "data": {
      "text/plain": [
       "'Snehal lohar'"
      ]
     },
     "execution_count": 64,
     "metadata": {},
     "output_type": "execute_result"
    }
   ],
   "source": [
    "name"
   ]
  },
  {
   "cell_type": "code",
   "execution_count": 65,
   "id": "04aec894-aec4-41f3-afa6-35fae6dd66d2",
   "metadata": {},
   "outputs": [
    {
     "data": {
      "text/plain": [
       "2"
      ]
     },
     "execution_count": 65,
     "metadata": {},
     "output_type": "execute_result"
    }
   ],
   "source": [
    "name.count('l')"
   ]
  },
  {
   "cell_type": "code",
   "execution_count": 68,
   "id": "9bdc976a-b583-421c-a316-d4dcd2befb4d",
   "metadata": {},
   "outputs": [
    {
     "data": {
      "text/plain": [
       "['Sneha', ' ', 'ohar']"
      ]
     },
     "execution_count": 68,
     "metadata": {},
     "output_type": "execute_result"
    }
   ],
   "source": [
    "name.split('l')"
   ]
  },
  {
   "cell_type": "code",
   "execution_count": 69,
   "id": "fb8f51e1-c1a3-4449-8c2a-57728c1341b7",
   "metadata": {},
   "outputs": [
    {
     "data": {
      "text/plain": [
       "list"
      ]
     },
     "execution_count": 69,
     "metadata": {},
     "output_type": "execute_result"
    }
   ],
   "source": [
    "type(name.split('l'))"
   ]
  },
  {
   "cell_type": "code",
   "execution_count": 75,
   "id": "824fa8dd-6ba0-4215-b0f6-1dd0f8d35151",
   "metadata": {},
   "outputs": [
    {
     "data": {
      "text/plain": [
       "'Snehal lohar'"
      ]
     },
     "execution_count": 75,
     "metadata": {},
     "output_type": "execute_result"
    }
   ],
   "source": [
    "name\n",
    "name\n",
    "name\n",
    "name"
   ]
  },
  {
   "cell_type": "code",
   "execution_count": 99,
   "id": "29bcefb7-5666-4561-ab02-2accfe3e9647",
   "metadata": {},
   "outputs": [
    {
     "data": {
      "text/plain": [
       "[\"i'm\", 'a', 'bca', 'student', 'in', 'mit', 'vpu']"
      ]
     },
     "execution_count": 99,
     "metadata": {},
     "output_type": "execute_result"
    }
   ],
   "source": [
    "#divide name 2 into list of words\n",
    "#[ 'i'm',\n",
    "# 'a',\n",
    "# 'bca',\n",
    "#....]\n",
    "name.split(' ')\n"
   ]
  },
  {
   "cell_type": "markdown",
   "id": "c8778d35-bff8-41cc-b182-6f6e3d400f38",
   "metadata": {},
   "source": [
    "name2"
   ]
  },
  {
   "cell_type": "code",
   "execution_count": 89,
   "id": "bcabe5e1-f5ff-4ff0-82e0-554dcc2b6ee2",
   "metadata": {},
   "outputs": [],
   "source": [
    "name2=\"i'm a bca student in mit vpu\""
   ]
  },
  {
   "cell_type": "code",
   "execution_count": 90,
   "id": "5fcf59cb-f177-4b6b-a8a4-e5bc69dc9001",
   "metadata": {},
   "outputs": [
    {
     "data": {
      "text/plain": [
       "\"i'm a bca student in mit vpu\""
      ]
     },
     "execution_count": 90,
     "metadata": {},
     "output_type": "execute_result"
    }
   ],
   "source": [
    "name"
   ]
  },
  {
   "cell_type": "code",
   "execution_count": 96,
   "id": "3d2d8593-4771-43e0-88ef-1b85d3d644be",
   "metadata": {},
   "outputs": [
    {
     "data": {
      "text/plain": [
       "[\"i'm\", 'a', 'bca', 'student', 'in', 'mit', 'vpu']"
      ]
     },
     "execution_count": 96,
     "metadata": {},
     "output_type": "execute_result"
    }
   ],
   "source": [
    "name2.split(' ')"
   ]
  },
  {
   "cell_type": "code",
   "execution_count": null,
   "id": "918c8784-c042-4b8b-b1d1-b15d547ccaab",
   "metadata": {},
   "outputs": [],
   "source": [
    "name3 = \"Lorem ipsum is typically a corrupted version of De finibus bonorum et malorum, a 1st-century BC text by the Roman statesman and philosopher Cicero, with words altered, added, and removed to make it nonsensical and improper Latin. The first two words themselves are a truncation of dolorem ipsum (\"pain itself\").\n",
    "\""
   ]
  },
  {
   "cell_type": "code",
   "execution_count": 100,
   "id": "3cbd4be5-aba8-496a-9307-91824e5547ed",
   "metadata": {},
   "outputs": [
    {
     "ename": "NameError",
     "evalue": "name 'name3' is not defined",
     "output_type": "error",
     "traceback": [
      "\u001b[0;31m---------------------------------------------------------------------------\u001b[0m",
      "\u001b[0;31mNameError\u001b[0m                                 Traceback (most recent call last)",
      "Cell \u001b[0;32mIn[100], line 5\u001b[0m\n\u001b[1;32m      1\u001b[0m \u001b[38;5;66;03m#divide name 3 into list of words\u001b[39;00m\n\u001b[1;32m      2\u001b[0m \u001b[38;5;66;03m#[ 'lorem',\u001b[39;00m\n\u001b[1;32m      3\u001b[0m \u001b[38;5;66;03m# 'ipsum',\u001b[39;00m\n\u001b[1;32m      4\u001b[0m \u001b[38;5;66;03m# ......]\u001b[39;00m\n\u001b[0;32m----> 5\u001b[0m name3\u001b[38;5;241m.\u001b[39msplit(\u001b[38;5;124m'\u001b[39m\u001b[38;5;124m \u001b[39m\u001b[38;5;124m'\u001b[39m)\n",
      "\u001b[0;31mNameError\u001b[0m: name 'name3' is not defined"
     ]
    }
   ],
   "source": [
    "#divide name 3 into list of words\n",
    "#[ 'lorem',\n",
    "# 'ipsum',\n",
    "# ......]\n",
    "name3.split(' ')"
   ]
  },
  {
   "cell_type": "code",
   "execution_count": null,
   "id": "18f5e848-3be6-4973-88fc-e5e2035ae2d9",
   "metadata": {},
   "outputs": [],
   "source": []
  }
 ],
 "metadata": {
  "kernelspec": {
   "display_name": "Python 3 (ipykernel)",
   "language": "python",
   "name": "python3"
  },
  "language_info": {
   "codemirror_mode": {
    "name": "ipython",
    "version": 3
   },
   "file_extension": ".py",
   "mimetype": "text/x-python",
   "name": "python",
   "nbconvert_exporter": "python",
   "pygments_lexer": "ipython3",
   "version": "3.12.4"
  }
 },
 "nbformat": 4,
 "nbformat_minor": 5
}
