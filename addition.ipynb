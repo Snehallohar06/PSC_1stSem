{
 "cells": [
  {
   "cell_type": "code",
   "execution_count": 1,
   "id": "ae6a4ef5-74f1-4f3a-9a9c-fab37bfe97ba",
   "metadata": {},
   "outputs": [],
   "source": [
    "a = 2"
   ]
  },
  {
   "cell_type": "code",
   "execution_count": 3,
   "id": "65565d55-384d-41ba-9f8f-b15f1b5276c4",
   "metadata": {},
   "outputs": [
    {
     "name": "stdout",
     "output_type": "stream",
     "text": [
      "2\n"
     ]
    }
   ],
   "source": [
    "# library function or inbuilt function\n",
    "print(a)"
   ]
  },
  {
   "cell_type": "code",
   "execution_count": 4,
   "id": "cf5a0b2b-7733-4a1f-b80c-786436f3998b",
   "metadata": {},
   "outputs": [
    {
     "name": "stdout",
     "output_type": "stream",
     "text": [
      "Snehal lohar\n"
     ]
    }
   ],
   "source": [
    "print(\"Snehal lohar\")"
   ]
  },
  {
   "cell_type": "code",
   "execution_count": 5,
   "id": "c2073e14-cd11-4db0-955d-2c100485b3cf",
   "metadata": {},
   "outputs": [],
   "source": [
    "name = \"Snehal Lohar\""
   ]
  },
  {
   "cell_type": "code",
   "execution_count": 6,
   "id": "d649e6b8-620c-4e9b-95fc-e5616468b9b0",
   "metadata": {},
   "outputs": [
    {
     "name": "stdout",
     "output_type": "stream",
     "text": [
      "Snehal Lohar\n"
     ]
    }
   ],
   "source": [
    "print(name)"
   ]
  },
  {
   "cell_type": "code",
   "execution_count": 7,
   "id": "31cc3895-e534-4fe4-9369-3d6392f41d65",
   "metadata": {},
   "outputs": [
    {
     "data": {
      "text/plain": [
       "'Snehal Lohar'"
      ]
     },
     "execution_count": 7,
     "metadata": {},
     "output_type": "execute_result"
    }
   ],
   "source": [
    "name"
   ]
  },
  {
   "cell_type": "code",
   "execution_count": 8,
   "id": "0403e58d-d360-4264-a655-09afd6c5266b",
   "metadata": {},
   "outputs": [
    {
     "data": {
      "text/plain": [
       "2"
      ]
     },
     "execution_count": 8,
     "metadata": {},
     "output_type": "execute_result"
    }
   ],
   "source": [
    "a"
   ]
  },
  {
   "cell_type": "code",
   "execution_count": 9,
   "id": "2db06805-d4b8-4a84-82a1-220ea71456e4",
   "metadata": {},
   "outputs": [],
   "source": [
    "a , b, c =5,4,7"
   ]
  },
  {
   "cell_type": "code",
   "execution_count": 10,
   "id": "8e66de9b-9c36-41f0-a34e-d4188539203b",
   "metadata": {},
   "outputs": [],
   "source": [
    "a = b = c =7"
   ]
  },
  {
   "cell_type": "code",
   "execution_count": 11,
   "id": "91556004-1f47-4cac-a9d9-156d03acc502",
   "metadata": {},
   "outputs": [
    {
     "name": "stdout",
     "output_type": "stream",
     "text": [
      "7 7 7\n"
     ]
    }
   ],
   "source": [
    "print(a,b,c)"
   ]
  },
  {
   "cell_type": "code",
   "execution_count": 16,
   "id": "7f37e0e1-5bd5-40b3-b46b-50974ccb9ec1",
   "metadata": {},
   "outputs": [
    {
     "name": "stdout",
     "output_type": "stream",
     "text": [
      "7,7,7\n"
     ]
    }
   ],
   "source": [
    "print(a,b,c, sep=',' )"
   ]
  },
  {
   "cell_type": "code",
   "execution_count": 18,
   "id": "fc8caf5a-bb80-4a1a-8738-6e11d975351e",
   "metadata": {},
   "outputs": [
    {
     "name": "stdout",
     "output_type": "stream",
     "text": [
      "45 67 89\n"
     ]
    }
   ],
   "source": [
    "print(45,67,89, sep = \" \")"
   ]
  },
  {
   "cell_type": "code",
   "execution_count": 19,
   "id": "79352d06-c622-4909-b992-d1ee4c6e4fd4",
   "metadata": {},
   "outputs": [
    {
     "name": "stdout",
     "output_type": "stream",
     "text": [
      "Snehal lohar\n",
      "Aarti gaikwad\n"
     ]
    }
   ],
   "source": [
    "print('Snehal lohar')\n",
    "print(\"Aarti gaikwad\")"
   ]
  },
  {
   "cell_type": "code",
   "execution_count": 21,
   "id": "3af73692-0fea-490a-8fc4-174c3c208136",
   "metadata": {},
   "outputs": [
    {
     "name": "stdout",
     "output_type": "stream",
     "text": [
      "Snehal lohar\taarti gaikwad\n"
     ]
    }
   ],
   "source": [
    "print(\"Snehal lohar\", end='\\t')\n",
    "print('aarti gaikwad')"
   ]
  },
  {
   "cell_type": "code",
   "execution_count": 25,
   "id": "f133a32e-42d9-46a5-b2c3-11136b072645",
   "metadata": {},
   "outputs": [
    {
     "name": "stdout",
     "output_type": "stream",
     "text": [
      "Enter Two Nos.\n"
     ]
    },
    {
     "name": "stdin",
     "output_type": "stream",
     "text": [
      "input the value of a 54\n",
      "input the value of b 43\n"
     ]
    },
    {
     "name": "stdout",
     "output_type": "stream",
     "text": [
      "97\n"
     ]
    }
   ],
   "source": [
    "# write code for add 2 nos\n",
    "print(\"Enter Two Nos.\")\n",
    "a = int(input(\"input the value of a\"))\n",
    "b = int(input(\"input the value of b\"))\n",
    "c = a + b\n",
    "print(c)"
   ]
  },
  {
   "cell_type": "code",
   "execution_count": null,
   "id": "697da497-816d-40b7-99c2-b1c425a5c38d",
   "metadata": {},
   "outputs": [],
   "source": []
  }
 ],
 "metadata": {
  "kernelspec": {
   "display_name": "Python 3 (ipykernel)",
   "language": "python",
   "name": "python3"
  },
  "language_info": {
   "codemirror_mode": {
    "name": "ipython",
    "version": 3
   },
   "file_extension": ".py",
   "mimetype": "text/x-python",
   "name": "python",
   "nbconvert_exporter": "python",
   "pygments_lexer": "ipython3",
   "version": "3.12.4"
  }
 },
 "nbformat": 4,
 "nbformat_minor": 5
}
