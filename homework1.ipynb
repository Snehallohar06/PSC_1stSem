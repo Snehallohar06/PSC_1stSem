{
 "cells": [
  {
   "cell_type": "code",
   "execution_count": null,
   "id": "13e0c803-a4a9-43ed-be25-4c0ea29f5e34",
   "metadata": {},
   "outputs": [],
   "source": [
    "s = \"this is My First Python programming class and i am learning python string and its function\""
   ]
  },
  {
   "cell_type": "raw",
   "id": "c8d125fe-0429-4ae2-b006-1587e5db1d29",
   "metadata": {},
   "source": [
    "s = \"this is My First Python programming class and i am learNING python string and its function\" 1 . Try to extract data from index one to index 300 with a jump of 3 2. Try to reverse a string without using reverse function 3. Try to split a string after conversion of entire string in uppercase 4. try to convert the whole string into lower case 5 . Try to capitalize the whole string 6 . Write a diference between isalnum() and isalpha() 7. Try to give an example of expand tab 8 . Give an example of strip , lstrip and rstrip 9. Replace a string charecter by another charector by taking your own example \"Your Name\" 10 . Try to give a defination of string center function with and exmple 11 . Write your own definition of compiler and interpretor without copy paste form internet in your own language 12 . Python is a interpreted of compiled language give a clear ans with your understanding 13 . Try to write a usecase of python with your understanding ."
   ]
  },
  {
   "cell_type": "code",
   "execution_count": 1,
   "id": "aa3d30f2-e79b-4930-833d-9a7bf1495b93",
   "metadata": {},
   "outputs": [],
   "source": [
    "s = \"this is My First Python programming class and i am learNING python string and its function\""
   ]
  },
  {
   "cell_type": "markdown",
   "id": "09ffbc4f-d9ad-4272-a6bf-5388cade50b4",
   "metadata": {},
   "source": [
    "# 1 . Try to extract data from index one to index 300 with a jump of 3"
   ]
  },
  {
   "cell_type": "code",
   "execution_count": 2,
   "id": "f4cfaa20-7aef-44e5-8d37-9c806a7e9b79",
   "metadata": {},
   "outputs": [
    {
     "data": {
      "text/plain": [
       "'h   r tnrrmglsnimeNGyosi dtfco'"
      ]
     },
     "execution_count": 2,
     "metadata": {},
     "output_type": "execute_result"
    }
   ],
   "source": [
    "s[1:301:3]"
   ]
  },
  {
   "cell_type": "markdown",
   "id": "498d3eed-4b57-4eb4-86bc-13df90d971eb",
   "metadata": {},
   "source": [
    "# 2. Try to reverse a string without using reverse function"
   ]
  },
  {
   "cell_type": "code",
   "execution_count": 5,
   "id": "87235def-c2b4-4285-9eee-116b0473c0d9",
   "metadata": {},
   "outputs": [
    {
     "data": {
      "text/plain": [
       "'noitcnuf sti dna gnirts nohtyp GNINrael ma i dna ssalc gnimmargorp nohtyP tsriF yM si siht'"
      ]
     },
     "execution_count": 5,
     "metadata": {},
     "output_type": "execute_result"
    }
   ],
   "source": [
    "s[::-1]"
   ]
  },
  {
   "cell_type": "markdown",
   "id": "aac2e0bf-689a-467d-a419-58072f8cbbcd",
   "metadata": {},
   "source": [
    "# 3. Try to split a string after conversion of entire string in uppercase "
   ]
  },
  {
   "cell_type": "code",
   "execution_count": 14,
   "id": "a4f958a8-b7e8-4039-b2d8-2f62110644a9",
   "metadata": {},
   "outputs": [
    {
     "data": {
      "text/plain": [
       "['THIS',\n",
       " 'IS',\n",
       " 'MY',\n",
       " 'FIRST',\n",
       " 'PYTHON',\n",
       " 'PROGRAMMING',\n",
       " 'CLASS',\n",
       " 'AND',\n",
       " 'I',\n",
       " 'AM',\n",
       " 'LEARNING',\n",
       " 'PYTHON',\n",
       " 'STRING',\n",
       " 'AND',\n",
       " 'ITS',\n",
       " 'FUNCTION']"
      ]
     },
     "execution_count": 14,
     "metadata": {},
     "output_type": "execute_result"
    }
   ],
   "source": [
    "s.upper() .split()"
   ]
  },
  {
   "cell_type": "markdown",
   "id": "e4bfcd54-849e-4116-befd-6cb042da8969",
   "metadata": {},
   "source": [
    "# 4. try to convert the whole string into lower case "
   ]
  },
  {
   "cell_type": "code",
   "execution_count": 15,
   "id": "0ce9508e-909c-47f2-b07d-67c6513b1db9",
   "metadata": {},
   "outputs": [
    {
     "data": {
      "text/plain": [
       "'this is my first python programming class and i am learning python string and its function'"
      ]
     },
     "execution_count": 15,
     "metadata": {},
     "output_type": "execute_result"
    }
   ],
   "source": [
    "s.lower()"
   ]
  },
  {
   "cell_type": "markdown",
   "id": "f1f2909c-b626-47a0-bfb8-6283b81dc4a6",
   "metadata": {},
   "source": [
    "# 5 . Try to capitalize the whole string "
   ]
  },
  {
   "cell_type": "code",
   "execution_count": 17,
   "id": "366b9700-f725-499f-b67b-2dcb843bc3d3",
   "metadata": {},
   "outputs": [
    {
     "data": {
      "text/plain": [
       "'This is my first python programming class and i am learning python string and its function'"
      ]
     },
     "execution_count": 17,
     "metadata": {},
     "output_type": "execute_result"
    }
   ],
   "source": [
    "s.capitalize()"
   ]
  },
  {
   "cell_type": "markdown",
   "id": "70c8bb5d-6af1-4b50-a494-72224efc47a7",
   "metadata": {},
   "source": [
    "# 6 . Write a diference between isalnum() and isalpha()"
   ]
  },
  {
   "cell_type": "code",
   "execution_count": 19,
   "id": "3ac26c57-f4e8-45e4-9189-e0100216c3f2",
   "metadata": {},
   "outputs": [
    {
     "data": {
      "text/plain": [
       "False"
      ]
     },
     "execution_count": 19,
     "metadata": {},
     "output_type": "execute_result"
    }
   ],
   "source": [
    "s.isalnum() "
   ]
  },
  {
   "cell_type": "code",
   "execution_count": 20,
   "id": "ac62f788-8250-4428-b0b4-1ef1f0ffea2f",
   "metadata": {},
   "outputs": [
    {
     "data": {
      "text/plain": [
       "False"
      ]
     },
     "execution_count": 20,
     "metadata": {},
     "output_type": "execute_result"
    }
   ],
   "source": [
    "s.isalpha()"
   ]
  },
  {
   "cell_type": "markdown",
   "id": "12680d4b-c99b-4e91-839c-11a0dc618bc5",
   "metadata": {},
   "source": [
    "# 7. Try to give an example of expand tab "
   ]
  },
  {
   "cell_type": "code",
   "execution_count": 21,
   "id": "674b2daf-8a48-46ac-a3cd-891022dedeb4",
   "metadata": {},
   "outputs": [
    {
     "data": {
      "text/plain": [
       "'this is My First Python programming class and i am learNING python string and its function'"
      ]
     },
     "execution_count": 21,
     "metadata": {},
     "output_type": "execute_result"
    }
   ],
   "source": [
    "s.expandtabs()"
   ]
  },
  {
   "cell_type": "markdown",
   "id": "6cc44825-1706-48d2-97e0-bffffc7ade7b",
   "metadata": {},
   "source": [
    "# 8 . Give an example of strip , lstrip and rstrip "
   ]
  },
  {
   "cell_type": "code",
   "execution_count": 24,
   "id": "de445d63-eb21-4abd-8d7d-700c533241f2",
   "metadata": {},
   "outputs": [
    {
     "data": {
      "text/plain": [
       "'this is My First Python programming class and i am learNING python string and its function'"
      ]
     },
     "execution_count": 24,
     "metadata": {},
     "output_type": "execute_result"
    }
   ],
   "source": [
    "s.strip() .lstrip() .rstrip()"
   ]
  },
  {
   "cell_type": "markdown",
   "id": "72d17f07-9116-4719-a028-996390c3c667",
   "metadata": {},
   "source": [
    "# 9. Replace a string charecter by another charector by taking your own example \"Your Name\" "
   ]
  },
  {
   "cell_type": "code",
   "execution_count": 27,
   "id": "8be8e909-bcff-4a02-b90d-69a5572b63f6",
   "metadata": {},
   "outputs": [
    {
     "data": {
      "text/plain": [
       "'this is My First Python snehal class and i am learNING python string and its function'"
      ]
     },
     "execution_count": 27,
     "metadata": {},
     "output_type": "execute_result"
    }
   ],
   "source": [
    "s.replace(\"programming\",\"snehal\")\n"
   ]
  },
  {
   "cell_type": "markdown",
   "id": "74236683-bd36-454b-a7f5-59fdc35a72b2",
   "metadata": {},
   "source": [
    "# 10 . Try to give a defination of string center function with and exmple"
   ]
  },
  {
   "cell_type": "code",
   "execution_count": null,
   "id": "74150c4d-2f19-4ba7-86c5-9cb1c453266e",
   "metadata": {},
   "outputs": [],
   "source": [
    "It is string method that is used to align text within a given string length."
   ]
  },
  {
   "cell_type": "code",
   "execution_count": 7,
   "id": "b7c16bcf-09a4-4046-8113-31b422a60544",
   "metadata": {},
   "outputs": [],
   "source": [
    "a=\"snehal\""
   ]
  },
  {
   "cell_type": "code",
   "execution_count": 9,
   "id": "d21412ab-a4e1-41ab-9280-a5e446144136",
   "metadata": {},
   "outputs": [
    {
     "data": {
      "text/plain": [
       "'  snehal  '"
      ]
     },
     "execution_count": 9,
     "metadata": {},
     "output_type": "execute_result"
    }
   ],
   "source": [
    "a.center(10)"
   ]
  },
  {
   "cell_type": "code",
   "execution_count": 10,
   "id": "a0af8fe3-379b-4838-8437-fbd576187ce7",
   "metadata": {},
   "outputs": [
    {
     "data": {
      "text/plain": [
       "'    snehal    '"
      ]
     },
     "execution_count": 10,
     "metadata": {},
     "output_type": "execute_result"
    }
   ],
   "source": [
    "a.center(14)"
   ]
  },
  {
   "cell_type": "markdown",
   "id": "4db83e24-622a-47f6-b1cd-a995c043fa9e",
   "metadata": {},
   "source": [
    "# 11 . Write your own definition of compiler and interpretor without copy paste form internet in your own language"
   ]
  },
  {
   "cell_type": "code",
   "execution_count": null,
   "id": "6963ebae-6821-4ac7-b0ed-f6c34a7ee283",
   "metadata": {},
   "outputs": [],
   "source": [
    "compiler: A compiler is a computer program that translates user language into machine code.\n",
    "interpretor: A computer program reads and excutes instructions written in a computer language without first compiling \n",
    "it into machine language"
   ]
  },
  {
   "cell_type": "markdown",
   "id": "a4a2a343-f024-44b0-b090-4d1b17e13adb",
   "metadata": {},
   "source": [
    "# 12 . Python is a interpreted of compiled language give a clear ans with your understanding"
   ]
  },
  {
   "cell_type": "code",
   "execution_count": null,
   "id": "45e6079a-5619-4f5a-9e23-35839e42efc0",
   "metadata": {},
   "outputs": [],
   "source": [
    "python is an interpreted language because the source code is converted into bytecode and then executed by the python virtual machine.   "
   ]
  },
  {
   "cell_type": "markdown",
   "id": "89ef2f09-d766-4bcc-89e5-10b303386e04",
   "metadata": {},
   "source": [
    "# 13 . Try to write a usecase of python with your understanding ."
   ]
  },
  {
   "cell_type": "code",
   "execution_count": null,
   "id": "294c342b-868c-4c66-890e-405b8468793d",
   "metadata": {},
   "outputs": [],
   "source": [
    "Data Analytics,Machine learning, Software development, Creating apps, Game development etc"
   ]
  }
 ],
 "metadata": {
  "kernelspec": {
   "display_name": "Python 3 (ipykernel)",
   "language": "python",
   "name": "python3"
  },
  "language_info": {
   "codemirror_mode": {
    "name": "ipython",
    "version": 3
   },
   "file_extension": ".py",
   "mimetype": "text/x-python",
   "name": "python",
   "nbconvert_exporter": "python",
   "pygments_lexer": "ipython3",
   "version": "3.12.4"
  }
 },
 "nbformat": 4,
 "nbformat_minor": 5
}
