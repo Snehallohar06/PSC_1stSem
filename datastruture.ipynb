{
 "cells": [
  {
   "cell_type": "code",
   "execution_count": 1,
   "id": "019066fd-b38b-4e62-b52a-2a670b3f9d92",
   "metadata": {},
   "outputs": [],
   "source": [
    "l = []"
   ]
  },
  {
   "cell_type": "code",
   "execution_count": 2,
   "id": "ec16ed77-edbe-4f4f-b0a8-1ae64351acc1",
   "metadata": {},
   "outputs": [
    {
     "data": {
      "text/plain": [
       "list"
      ]
     },
     "execution_count": 2,
     "metadata": {},
     "output_type": "execute_result"
    }
   ],
   "source": [
    "type(l)"
   ]
  },
  {
   "cell_type": "code",
   "execution_count": 5,
   "id": "d9c004be-1d97-472e-8ec2-d0d521f904ba",
   "metadata": {},
   "outputs": [],
   "source": [
    "a = ()"
   ]
  },
  {
   "cell_type": "code",
   "execution_count": 6,
   "id": "120f1197-f271-41eb-9faf-29cc310bdf53",
   "metadata": {},
   "outputs": [
    {
     "data": {
      "text/plain": [
       "tuple"
      ]
     },
     "execution_count": 6,
     "metadata": {},
     "output_type": "execute_result"
    }
   ],
   "source": [
    "type(a)"
   ]
  },
  {
   "cell_type": "code",
   "execution_count": 7,
   "id": "2e891bf9-6833-47bd-bc6f-a3ef466018fb",
   "metadata": {},
   "outputs": [],
   "source": [
    "a = {}"
   ]
  },
  {
   "cell_type": "code",
   "execution_count": 8,
   "id": "ab04c7b1-46ed-4795-97df-6543818be5a5",
   "metadata": {},
   "outputs": [
    {
     "data": {
      "text/plain": [
       "dict"
      ]
     },
     "execution_count": 8,
     "metadata": {},
     "output_type": "execute_result"
    }
   ],
   "source": [
    "type(a)"
   ]
  },
  {
   "cell_type": "code",
   "execution_count": 9,
   "id": "93223781-48b0-4b6c-9221-e43847aad9d2",
   "metadata": {},
   "outputs": [],
   "source": [
    "a = [1,67,34,\"snehal\",67.3, True,\"Aarti\",12]"
   ]
  },
  {
   "cell_type": "code",
   "execution_count": 10,
   "id": "67eaf368-886c-40bc-afc6-e9049037bfc2",
   "metadata": {},
   "outputs": [
    {
     "data": {
      "text/plain": [
       "list"
      ]
     },
     "execution_count": 10,
     "metadata": {},
     "output_type": "execute_result"
    }
   ],
   "source": [
    "type(a)"
   ]
  },
  {
   "cell_type": "code",
   "execution_count": 11,
   "id": "cbb00ee1-3846-4711-9487-640f2d9e0f79",
   "metadata": {},
   "outputs": [],
   "source": [
    "# Access 67.3 from a"
   ]
  },
  {
   "cell_type": "code",
   "execution_count": 12,
   "id": "9c463e6a-cb80-4250-b150-6b0cff7bfcdf",
   "metadata": {},
   "outputs": [
    {
     "data": {
      "text/plain": [
       "67.3"
      ]
     },
     "execution_count": 12,
     "metadata": {},
     "output_type": "execute_result"
    }
   ],
   "source": [
    "a[4]"
   ]
  },
  {
   "cell_type": "code",
   "execution_count": 13,
   "id": "b2c4dd49-8da7-42fb-ae3f-6f3785b4bcd3",
   "metadata": {},
   "outputs": [
    {
     "data": {
      "text/plain": [
       "'snehal'"
      ]
     },
     "execution_count": 13,
     "metadata": {},
     "output_type": "execute_result"
    }
   ],
   "source": [
    "a[3]"
   ]
  },
  {
   "cell_type": "code",
   "execution_count": 14,
   "id": "578a51b5-748d-48aa-9512-89b6044acbe9",
   "metadata": {},
   "outputs": [
    {
     "data": {
      "text/plain": [
       "'Aarti'"
      ]
     },
     "execution_count": 14,
     "metadata": {},
     "output_type": "execute_result"
    }
   ],
   "source": [
    "a[-2]"
   ]
  },
  {
   "cell_type": "code",
   "execution_count": 23,
   "id": "ff5e249d-36ba-4d8a-9364-0eda3fa2180a",
   "metadata": {},
   "outputs": [
    {
     "data": {
      "text/plain": [
       "bool"
      ]
     },
     "execution_count": 23,
     "metadata": {},
     "output_type": "execute_result"
    }
   ],
   "source": [
    "type(True)"
   ]
  },
  {
   "cell_type": "code",
   "execution_count": 22,
   "id": "928e53be-4543-4cef-8a9a-67fe797d5f55",
   "metadata": {},
   "outputs": [
    {
     "data": {
      "text/plain": [
       "str"
      ]
     },
     "execution_count": 22,
     "metadata": {},
     "output_type": "execute_result"
    }
   ],
   "source": [
    "type(\"snehal\")"
   ]
  },
  {
   "cell_type": "code",
   "execution_count": 20,
   "id": "3db3c52e-772f-47a2-88b4-0e93217a1741",
   "metadata": {},
   "outputs": [
    {
     "data": {
      "text/plain": [
       "float"
      ]
     },
     "execution_count": 20,
     "metadata": {},
     "output_type": "execute_result"
    }
   ],
   "source": [
    "# access 67.3 from a\n",
    "type(a[4])"
   ]
  },
  {
   "cell_type": "code",
   "execution_count": 21,
   "id": "bee899e8-300f-4a41-9851-20cf958de3ed",
   "metadata": {},
   "outputs": [
    {
     "data": {
      "text/plain": [
       "float"
      ]
     },
     "execution_count": 21,
     "metadata": {},
     "output_type": "execute_result"
    }
   ],
   "source": [
    "type(67.3)"
   ]
  },
  {
   "cell_type": "code",
   "execution_count": null,
   "id": "488f4285-4095-4f24-8b38-bdaddc67e691",
   "metadata": {},
   "outputs": [],
   "source": []
  }
 ],
 "metadata": {
  "kernelspec": {
   "display_name": "Python 3 (ipykernel)",
   "language": "python",
   "name": "python3"
  },
  "language_info": {
   "codemirror_mode": {
    "name": "ipython",
    "version": 3
   },
   "file_extension": ".py",
   "mimetype": "text/x-python",
   "name": "python",
   "nbconvert_exporter": "python",
   "pygments_lexer": "ipython3",
   "version": "3.12.4"
  }
 },
 "nbformat": 4,
 "nbformat_minor": 5
}
